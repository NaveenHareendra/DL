{
 "cells": [
  {
   "cell_type": "code",
   "execution_count": 1,
   "metadata": {
    "id": "wncjuHKsOtkf"
   },
   "outputs": [],
   "source": [
    "from tensorflow.keras.datasets import mnist\n",
    "from tensorflow.keras.models import Sequential\n",
    "from tensorflow.keras.layers import Dense,Flatten\n",
    "from tensorflow.keras.utils import to_categorical\n",
    "from matplotlib import pyplot as plt\n",
    "import numpy as np\n"
   ]
  },
  {
   "cell_type": "markdown",
   "metadata": {
    "id": "vOlspUx0PCa_"
   },
   "source": [
    "Load the MNIST dataset"
   ]
  },
  {
   "cell_type": "code",
   "execution_count": 2,
   "metadata": {
    "colab": {
     "base_uri": "https://localhost:8080/"
    },
    "id": "9UOZdBlgE9jJ",
    "outputId": "e4e82daf-a245-4abc-e463-6f5b549be796"
   },
   "outputs": [
    {
     "name": "stdout",
     "output_type": "stream",
     "text": [
      "Downloading data from https://storage.googleapis.com/tensorflow/tf-keras-datasets/mnist.npz\n",
      "11490434/11490434 [==============================] - 2s 0us/step\n"
     ]
    }
   ],
   "source": [
    "(train_data,train_target),(test_data,test_target) = mnist.load_data()"
   ]
  },
  {
   "cell_type": "markdown",
   "metadata": {
    "id": "RociFxvNPi_w"
   },
   "source": [
    "Visualize the dataset"
   ]
  },
  {
   "cell_type": "code",
   "execution_count": 3,
   "metadata": {
    "colab": {
     "base_uri": "https://localhost:8080/",
     "height": 549
    },
    "id": "FEmN0CXzQ0r0",
    "outputId": "cac48efb-9a7b-490a-a513-23134f81adb0"
   },
   "outputs": [
    {
     "name": "stdout",
     "output_type": "stream",
     "text": [
      "Target labels:  [0 9 7 3 9 7 2 8 1 0]\n"
     ]
    },
    {
     "data": {
      "image/png": "[encoded data removed]",
      "text/plain": [
       "<Figure size 1152x576 with 10 Axes>"
      ]
     },
     "metadata": {
      "needs_background": "light"
     },
     "output_type": "display_data"
    }
   ],
   "source": [
    "fig, axs = plt.subplots(2, 5, figsize=(16,8))\n",
    "random_numbers = np.random.randint(0, 60000, 10)\n",
    "print('Target labels: ',train_target[random_numbers])\n",
    "for idx, ax in enumerate(axs.ravel()):\n",
    "    ax.imshow(train_data[random_numbers[idx]],cmap='gray')\n",
    "plt.show()"
   ]
  },
  {
   "cell_type": "markdown",
   "metadata": {
    "id": "YxaTSaecPUf9"
   },
   "source": [
    "Pre-processing stage"
   ]
  },
  {
   "cell_type": "code",
   "execution_count": 4,
   "metadata": {
    "id": "wWPOLNMVPTRv"
   },
   "outputs": [],
   "source": [
    "new_train_data = train_data/255.0\n",
    "new_test_data=test_data/255.0\n",
    "\n",
    "new_train_target = to_categorical(train_target)\n",
    "new_test_target = to_categorical(test_target)"
   ]
  },
  {
   "cell_type": "markdown",
   "metadata": {
    "id": "ZSLECSQfPKPH"
   },
   "source": [
    "Create the Model architecture"
   ]
  },
  {
   "cell_type": "code",
   "execution_count": 14,
   "metadata": {
    "id": "enx5PvLWE9jM"
   },
   "outputs": [],
   "source": [
    "\"\"\"\n",
    "The Sequential model allows us to create models layer-by-layer as we need in \n",
    "a multi-layer perceptron and is limited to single-input, single-output stacks of layers.\n",
    "\"\"\"\n",
    "from tensorflow.keras import regularizers\n",
    "\n",
    "model=Sequential()\n",
    "\n",
    "model.add(Flatten(input_shape=(28,28)))\n",
    "\n",
    "model.add(Dense(64,activation='relu', kernel_regularizer=regularizers.l1(0.001)))\n",
    "model.add(Dense(64,input_dim=64,activation='relu', kernel_regularizer=regularizers.l1(0.001)))\n",
    "model.add(Dense(32,input_dim=64,activation='relu', kernel_regularizer=regularizers.l1(0.001)))\n",
    "model.add(Dense(10,input_dim=32,activation='softmax', kernel_regularizer=regularizers.l1(0.001)))\n",
    "model.compile(loss='categorical_crossentropy',optimizer='adam',metrics=['accuracy'])"
   ]
  },
  {
   "cell_type": "code",
   "execution_count": 15,
   "metadata": {
    "colab": {
     "base_uri": "https://localhost:8080/"
    },
    "id": "TlqK33oVPP1X",
    "outputId": "41bd050a-a838-43a0-ec61-f7ec9179029f"
   },
   "outputs": [
    {
     "name": "stdout",
     "output_type": "stream",
     "text": [
      "Model: \"sequential_3\"\n",
      "_________________________________________________________________\n",
      " Layer (type)                Output Shape              Param #   \n",
      "=================================================================\n",
      " flatten_3 (Flatten)         (None, 784)               0         \n",
      "                                                                 \n",
      " dense_8 (Dense)             (None, 64)                50240     \n",
      "                                                                 \n",
      " dense_9 (Dense)             (None, 64)                4160      \n",
      "                                                                 \n",
      " dense_10 (Dense)            (None, 32)                2080      \n",
      "                                                                 \n",
      " dense_11 (Dense)            (None, 10)                330       \n",
      "                                                                 \n",
      "=================================================================\n",
      "Total params: 56,810\n",
      "Trainable params: 56,810\n",
      "Non-trainable params: 0\n",
      "_________________________________________________________________\n"
     ]
    }
   ],
   "source": [
    "model.summary()"
   ]
  },
  {
   "cell_type": "markdown",
   "metadata": {
    "id": "9WYHu5ILSfNf"
   },
   "source": [
    "Train the model"
   ]
  },
  {
   "cell_type": "code",
   "execution_count": 16,
   "metadata": {
    "colab": {
     "base_uri": "https://localhost:8080/"
    },
    "id": "65p6Lg5gE9jO",
    "outputId": "6c84b954-90aa-479c-f5d9-0fee6906cc5a"
   },
   "outputs": [
    {
     "name": "stdout",
     "output_type": "stream",
     "text": [
      "Epoch 1/10\n",
      "1875/1875 [==============================] - 4s 2ms/step - loss: 1.1657 - accuracy: 0.8834\n",
      "Epoch 2/10\n",
      "1875/1875 [==============================] - 3s 2ms/step - loss: 0.7641 - accuracy: 0.9252\n",
      "Epoch 3/10\n",
      "1875/1875 [==============================] - 3s 2ms/step - loss: 0.6569 - accuracy: 0.9345\n",
      "Epoch 4/10\n",
      "1875/1875 [==============================] - 3s 2ms/step - loss: 0.6026 - accuracy: 0.9384\n",
      "Epoch 5/10\n",
      "1875/1875 [==============================] - 3s 2ms/step - loss: 0.5719 - accuracy: 0.9404\n",
      "Epoch 6/10\n",
      "1875/1875 [==============================] - 3s 2ms/step - loss: 0.5510 - accuracy: 0.9420\n",
      "Epoch 7/10\n",
      "1875/1875 [==============================] - 3s 2ms/step - loss: 0.5361 - accuracy: 0.9414\n",
      "Epoch 8/10\n",
      "1875/1875 [==============================] - 3s 2ms/step - loss: 0.5218 - accuracy: 0.9434\n",
      "Epoch 9/10\n",
      "1875/1875 [==============================] - 3s 2ms/step - loss: 0.5137 - accuracy: 0.9443\n",
      "Epoch 10/10\n",
      "1875/1875 [==============================] - 3s 2ms/step - loss: 0.5066 - accuracy: 0.9442\n"
     ]
    }
   ],
   "source": [
    "train_info = model.fit(new_train_data , new_train_target , epochs = 10)"
   ]
  },
  {
   "cell_type": "markdown",
   "metadata": {
    "id": "cwR1pYCBSl6w"
   },
   "source": [
    "Plot the loss and accuracy graphs"
   ]
  },
  {
   "cell_type": "code",
   "execution_count": 17,
   "metadata": {
    "colab": {
     "base_uri": "https://localhost:8080/",
     "height": 472
    },
    "id": "nIHMcTjME9jP",
    "outputId": "f6adf01b-e131-4dc6-991d-e97c046a95e4"
   },
   "outputs": [
    {
     "data": {
      "image/png": "[encoded data removed]",
      "text/plain": [
       "<Figure size 432x288 with 1 Axes>"
      ]
     },
     "metadata": {
      "needs_background": "light"
     },
     "output_type": "display_data"
    }
   ],
   "source": [
    "plt.plot(train_info.history['loss'])\n",
    "plt.xlabel('epochs')\n",
    "plt.ylabel('loss')\n",
    "plt.title('Model loss')\n",
    "plt.show()"
   ]
  },
  {
   "cell_type": "code",
   "execution_count": 18,
   "metadata": {
    "colab": {
     "base_uri": "https://localhost:8080/",
     "height": 472
    },
    "id": "T6DnvAP3E9jP",
    "outputId": "c35b0246-fd9a-4298-a96f-1cb2bfd06ac8"
   },
   "outputs": [
    {
     "data": {
      "image/png": "[encoded data removed]",
      "text/plain": [
       "<Figure size 432x288 with 1 Axes>"
      ]
     },
     "metadata": {
      "needs_background": "light"
     },
     "output_type": "display_data"
    }
   ],
   "source": [
    "plt.plot(train_info.history['accuracy'])\n",
    "plt.xlabel('epochs')\n",
    "plt.ylabel('accuracy')\n",
    "plt.title('Model accuracy')\n",
    "plt.show()"
   ]
  },
  {
   "cell_type": "markdown",
   "metadata": {
    "id": "lHY3ygUVTkmo"
   },
   "source": [
    "Test the performance of Model"
   ]
  },
  {
   "cell_type": "code",
   "execution_count": 19,
   "metadata": {
    "colab": {
     "base_uri": "https://localhost:8080/"
    },
    "id": "vLSwDA7DE9jQ",
    "outputId": "2a2aa0a3-dd0f-4ac4-8349-2f6ee56ac15f"
   },
   "outputs": [
    {
     "name": "stdout",
     "output_type": "stream",
     "text": [
      "313/313 [==============================] - 1s 1ms/step - loss: 0.4911 - accuracy: 0.9462\n",
      "Loss of the Test dataset is: 0.4911258816719055\n",
      "Accuracy of the test dataset is: 0.9462000131607056\n"
     ]
    }
   ],
   "source": [
    "loss, acc = model.evaluate(new_test_data , new_test_target)\n",
    "print(f'Loss of the Test dataset is: {loss}\\nAccuracy of the test dataset is: {acc}')"
   ]
  },
  {
   "cell_type": "markdown",
   "metadata": {
    "id": "gNAp8ycXU7ph"
   },
   "source": [
    "Save the model weights"
   ]
  },
  {
   "cell_type": "code",
   "execution_count": 20,
   "metadata": {
    "id": "anSo8CJ3E9jR"
   },
   "outputs": [],
   "source": [
    "model.save_weights('MNIST_WEIGHTS_V1.h5')"
   ]
  },
  {
   "cell_type": "code",
   "execution_count": 21,
   "metadata": {},
   "outputs": [
    {
     "name": "stdout",
     "output_type": "stream",
     "text": [
      "313/313 [==============================] - 0s 1ms/step\n"
     ]
    }
   ],
   "source": [
    "y_pred = model.predict(new_test_data)\n",
    "y_pred = np.argmax(y_pred, axis=1)\n",
    "y_test = np.argmax(new_test_target, axis=1)"
   ]
  },
  {
   "cell_type": "code",
   "execution_count": 23,
   "metadata": {},
   "outputs": [
    {
     "name": "stdout",
     "output_type": "stream",
     "text": [
      "[[ 956    0    1    2    1    7    3    4    3    3]\n",
      " [   0 1106    0    4    1    0    4    1   18    1]\n",
      " [   3    3  964   18   13    1    6   14    7    3]\n",
      " [   1    1   15  934    1   21    3    8   18    8]\n",
      " [   1    1    2    0  927    0    6    2    3   40]\n",
      " [   3    1    1   17    1  844   16    2    3    4]\n",
      " [   8    3    0    2    8   13  919    0    5    0]\n",
      " [   1    5   17   10    3    2    0  963    1   26]\n",
      " [   5    1    4   15    9   13    9    6  886   26]\n",
      " [   4    4    0   10   11    8    0    5    4  963]]\n"
     ]
    }
   ],
   "source": [
    "from sklearn.metrics import confusion_matrix\n",
    "cm = confusion_matrix(y_test, y_pred)\n",
    "print(cm)\n"
   ]
  },
  {
   "cell_type": "markdown",
   "metadata": {},
   "source": [
    "# All answers are provided"
   ]
  }
 ],
 "metadata": {
  "colab": {
   "provenance": []
  },
  "kernelspec": {
   "display_name": "Python 3 (ipykernel)",
   "language": "python",
   "name": "python3"
  },
  "language_info": {
   "codemirror_mode": {
    "name": "ipython",
    "version": 3
   },
   "file_extension": ".py",
   "mimetype": "text/x-python",
   "name": "python",
   "nbconvert_exporter": "python",
   "pygments_lexer": "ipython3",
   "version": "3.9.12"
  }
 },
 "nbformat": 4,
 "nbformat_minor": 1
}
